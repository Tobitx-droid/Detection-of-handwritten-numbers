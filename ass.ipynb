{
 "cells": [
  {
   "cell_type": "code",
   "execution_count": 30,
   "metadata": {},
   "outputs": [],
   "source": [
    "import numpy as np\n",
    "import matplotlib.pyplot as plt\n",
    "import random #This is to use the random() function"
   ]
  },
  {
   "cell_type": "markdown",
   "metadata": {},
   "source": [
    "LOADING THE DATASETS AND RESHAPING THEM"
   ]
  },
  {
   "cell_type": "code",
   "execution_count": 31,
   "metadata": {},
   "outputs": [],
   "source": [
    "X_train = np.loadtxt('train_X.csv', delimiter = ',').T #The .T is to transpose the data to suit the shape used in the calculations\n",
    "Y_train = np.loadtxt('train_label.csv', delimiter = ',').T\n",
    "\n",
    "X_test = np.loadtxt('test_X.csv', delimiter = ',').T\n",
    "Y_test = np.loadtxt('test_label.csv', delimiter = ',').T"
   ]
  },
  {
   "cell_type": "code",
   "execution_count": 32,
   "metadata": {},
   "outputs": [
    {
     "name": "stdout",
     "output_type": "stream",
     "text": [
      "shape of X_train : (784, 1000)\n",
      "shape of Y_train : (10, 1000)\n",
      "shape of X_test  : (784, 350)\n",
      "shape of Y_test  : (10, 350)\n"
     ]
    }
   ],
   "source": [
    "print(\"shape of X_train :\", X_train.shape)\n",
    "print(\"shape of Y_train :\", Y_train.shape)\n",
    "print(\"shape of X_test  :\", X_test.shape)\n",
    "print(\"shape of Y_test  :\", Y_test.shape)"
   ]
  },
  {
   "cell_type": "markdown",
   "metadata": {},
   "source": [
    "DISPLAYING SAMPLE DATA"
   ]
  },
  {
   "cell_type": "code",
   "execution_count": 33,
   "metadata": {},
   "outputs": [
    {
     "data": {
      "image/png": "[encoded data removed]",
      "text/plain": [
       "<Figure size 640x480 with 1 Axes>"
      ]
     },
     "metadata": {},
     "output_type": "display_data"
    }
   ],
   "source": [
    "index = random.randrange(0, X_train.shape[1]) #This is to choose a random number from the random range 0 to the second element of the tuple X_train.shape which is 1000\n",
    "plt.imshow(X_train[:, index].reshape(28, 28), cmap = 'gray') #this code uses the matplotlib.pyplot library to show the image at the random index generated above and reshape it from a flattened image to a 2D image. Since we want the image in white and black we do... cmap = 'gray'\n",
    "plt.show() #This displays the image"
   ]
  },
  {
   "cell_type": "markdown",
   "metadata": {},
   "source": [
    "DEFINING THE FUNCTIONS TO BE USED FOR THE HIDDEN AND OUTPUT LAYERS"
   ]
  },
  {
   "cell_type": "code",
   "execution_count": 34,
   "metadata": {},
   "outputs": [],
   "source": [
    "def tanh(x):\n",
    "    return np.tanh(x)#This returns the results when a value is placed in the actual tanh function\n",
    "\n",
    "def relu(x):\n",
    "    return np.maximum(x,0) #This returns the same number when it's greater than zero and returns 0 when the number is negative. This is exactly what the relu function does.\n",
    "\n",
    "def softmax(x):\n",
    "    expX = np.exp(x)\n",
    "    return expX/np.sum(expX, axis = 0)#This is the exact coding of the softmax function."
   ]
  },
  {
   "cell_type": "markdown",
   "metadata": {},
   "source": [
    "DEFINING THE DERIVATIVES OF THE FUNCTIONS IN CODE"
   ]
  },
  {
   "cell_type": "code",
   "execution_count": 35,
   "metadata": {},
   "outputs": [],
   "source": [
    "def derivative_tanh(x):\n",
    "    return (1 - np.power(np.tanh(x), 2)) #If you look at the derivatives you would see that this was the result of differentiating the tanh function\n",
    "\n",
    "def derivative_relu(x):\n",
    "    return np.array(x > 0, dtype = np.float32)"
   ]
  },
  {
   "cell_type": "markdown",
   "metadata": {},
   "source": [
    "INITIALIZE PARAMETERS"
   ]
  },
  {
   "cell_type": "code",
   "execution_count": 36,
   "metadata": {},
   "outputs": [],
   "source": [
    "def initialize_parameters(n_x, n_h, n_y): #n_x is the number of neurons in the input layer, n_h is the number of neurons in the hidden layer and n_y is the number of neurons in the output layer.\n",
    "    w1 = np.random.randn(n_h, n_x) * 0.001 #Over here we generate the first weights, w1 by using the number of neurons in the input and hidden layer to produce random values. Usually these random values produces are huge so we try to minimize them by the multiplication by 0.001. This is because when the weights are huge, the learning is slow so we minimize the weights to increase the learning.This can be seen by observing the gradient descent formula with a small W, when subtracted by the product of the gradient and the learning rate, the total reduction is more than if the weight W was large\n",
    "    b1 = np.zeros((n_h, 1)) #This is to initialize the bias first with a column of zeros. It's easier to track updating of the parameters knowing you started with a bias of zero\n",
    "\n",
    "    w2 = np.random.randn(n_y, n_h) * 0.001\n",
    "    b2 = np.zeros((n_y, 1))\n",
    "\n",
    "    parameters = {\n",
    "        \"w1\" : w1,\n",
    "        \"b1\" : b1,\n",
    "        \"w2\" : w2,\n",
    "        \"b2\" : b2\n",
    "    }\n",
    "\n",
    "    return parameters #Since there were a lot of things to return it's neater to put them in a single dictionary and return the dictionary."
   ]
  },
  {
   "cell_type": "markdown",
   "metadata": {},
   "source": [
    "FORWARD PROPAGATION\n",
    "# Forward Propagation\n",
    "\n",
    "We need to impletement the following equation for forward propagation :\n",
    "\n",
    "$ Z_1 = W_1 * X + B_1 $\n",
    "\n",
    "$ A_1 = f ( Z_1 ) $  \n",
    "\n",
    "$ Z_2 = W2 * A_1 + B_2 $\n",
    "\n",
    "$ A_2 = Softmax( Z_2 ) $\n",
    "\n",
    "For f(x), you can use either tanh or ReLU activation function. \n",
    "\n",
    "But also use the same for Backpropagation as well"
   ]
  },
  {
   "cell_type": "code",
   "execution_count": 37,
   "metadata": {},
   "outputs": [],
   "source": [
    "def forward_propagation(x, parameters):\n",
    "\n",
    "    w1 = parameters['w1']\n",
    "    b1 = parameters['b1']\n",
    "    w2 = parameters['w2']\n",
    "    b2 = parameters['b2']\n",
    "\n",
    "    z1 = np.dot(w1, x) + b1 #np.dot(w1, x) is for doing matrix multiplication between w1 and x\n",
    "    a1 = relu(z1)\n",
    "\n",
    "    z2 = np.dot(w2, a1) + b2\n",
    "    a2 = softmax(z2)\n",
    "\n",
    "    forward_cache = {\n",
    "        \"z1\" : z1,\n",
    "        \"a1\" : a1,\n",
    "        \"z2\" : z2,\n",
    "        \"a2\" : a2\n",
    "    }\n",
    "\n",
    "    return forward_cache"
   ]
  },
  {
   "cell_type": "markdown",
   "metadata": {},
   "source": [
    "# Cost Function\n",
    "\n",
    "$Loss = - \\sum_{k=1}^{n}[ y_k*log(a_k) ]$ .. *for 1 observation*\n",
    "\n",
    "$Cost = - \\frac{1}{m}\\sum_{i=1}^{m}\\sum_{k=1}^{n}[ y_k*log(a_k) ]$  .. *for all m observations*\n",
    "\n",
    "You need to return the cost in the below function\n",
    "\n",
    "You can use np.sum()\n",
    "- np.sum(A, axis = 1, keepdims = True) return the column-wise sum for a matrix A\n",
    "- np.sum(A, axis = 0, keepdims = True) returns the row-wise sum for a matrix A\n",
    "- np.sum(A) returns the summation of all the elements of A\n",
    "\n",
    "*keepdims = True keeps the dimenstion in place. In certain cases, the returned sum can be of shape(m,) instead of shape(m, 1).\n",
    "So, keepdims = True forces it to return the sum in shape(m, 1) instead of shape(m,)*\n",
    "\n",
    "\n",
    "More about np.sum() here : https://numpy.org/doc/stable/reference/generated/numpy.sum.html\n"
   ]
  },
  {
   "cell_type": "code",
   "execution_count": 38,
   "metadata": {},
   "outputs": [],
   "source": [
    "def cost_function(a2, y):\n",
    "    m = y.shape[1] #y.shape returns the dimension of the matrix y (row, column). The parameter 1 selects the column so the m would contain the number of the column\n",
    "\n",
    "    cost = -(1/m) * np.sum(y*np.log(a2)) #This impliments the cost function\n",
    "    #cost = -(1/m) * np.sum(np.sum(y * np.log(a2, 0), 1)) This does the same as the above\n",
    "\n",
    "    return cost"
   ]
  },
  {
   "cell_type": "markdown",
   "metadata": {},
   "source": [
    "# Backward Propagation\n",
    "\n",
    "We need to implement the below equations\n",
    "\n",
    "$dZ_2 = ( A_2 - Y )$\n",
    "\n",
    "$ dW_2 = \\frac{1}{m}. dZ_2 . A_1^T$\n",
    "\n",
    "$ dB_2 = \\frac{1}{m}.sum(dZ_2, 1)$\n",
    "\n",
    "\n",
    "\n",
    "$dZ_1 = W_2^T . dZ_2 * f_1^|(Z_1) $\n",
    "\n",
    "$dW_1 = \\frac{1}{m}.dZ_1.A_1^T$\n",
    "\n",
    "$dB_1 = \\frac{1}{m}.sum(dZ_1, 1)$\n",
    "\n",
    "Helper python functions :\n",
    "- A.T returns the transpose of matrix A\n",
    "- np.dot(A, B) returns the matrix multiplication of A and B\n",
    "- A*B returns the element wise multi-plication for A and B\n",
    "- np.sum(A, axis = 1, keepdims = True) return the column-wise sum for a matrix A\n",
    "- np.sum(A, axis = 0, keepdims = True) returns the row-wise sum for a matrix A\n",
    "\n",
    "   "
   ]
  },
  {
   "cell_type": "code",
   "execution_count": 39,
   "metadata": {},
   "outputs": [],
   "source": [
    "def backward_prop(x, y, parameters, forward_cache):\n",
    "    w1 = parameters['w1']\n",
    "    b1 = parameters['b1']\n",
    "    w2 = parameters['w2']\n",
    "    b2 = parameters['b2']\n",
    "\n",
    "    a1 = forward_cache['a1']\n",
    "    a2 = forward_cache['a2']\n",
    "\n",
    "    m = x.shape[1]\n",
    "\n",
    "    dz2 = (a2 - y)\n",
    "    dw2 = (1/m) * np.dot(dz2, a1.T)\n",
    "    db2 = (1/m) * np.sum(dz2, axis = 1, keepdims = True) #keepdims = True helps the output to maintain its dimensions. axis = 1 is to ensure column summation\n",
    "\n",
    "    dz1 = (1/m) * np.dot(w2.T, dz2) * derivative_relu(a1)\n",
    "    dw1 = (1/m) * np.dot(dz1, x.T)\n",
    "    db1 = (1/m) * np.sum(dz1, axis = 1, keepdims = True)\n",
    "\n",
    "    gradients = {\n",
    "        \"dw1\" : dw1,\n",
    "        \"db1\" : db1,\n",
    "        \"dw2\" : dw2,\n",
    "        \"db2\" : db2,\n",
    "\n",
    "    }\n",
    "    return gradients\n"
   ]
  },
  {
   "cell_type": "markdown",
   "metadata": {},
   "source": [
    "UPDATE PARAMETERS"
   ]
  },
  {
   "cell_type": "code",
   "execution_count": 40,
   "metadata": {},
   "outputs": [],
   "source": [
    "def update_parameters(parameters, gradients, learning_rate):\n",
    "    w1 = parameters['w1']\n",
    "    b1 = parameters['b1']\n",
    "    w2 = parameters['w2']\n",
    "    b2 = parameters['b2']\n",
    "\n",
    "    dw1 = gradients['dw1']\n",
    "    db1 = gradients['db1']\n",
    "    dw2 = gradients['dw2']\n",
    "    db2 = gradients['db2']\n",
    "\n",
    "    w1 = w1 - learning_rate * dw1\n",
    "    b1 = b1 - learning_rate * db1\n",
    "    w2 = w2 - learning_rate * dw2\n",
    "    b2 = b2 - learning_rate * db2\n",
    "\n",
    "    parameters = {\n",
    "        \"w1\" : w1,\n",
    "        \"b1\" : b1,\n",
    "        \"w2\" : w2,\n",
    "        \"b2\" : b2\n",
    "    }\n",
    "\n",
    "    return parameters"
   ]
  },
  {
   "cell_type": "markdown",
   "metadata": {},
   "source": [
    "COMPLETE MODEL"
   ]
  },
  {
   "cell_type": "code",
   "execution_count": 41,
   "metadata": {},
   "outputs": [],
   "source": [
    "def model(x, y, n_h, learning_rate, iterations):\n",
    "\n",
    "    n_x = x.shape[0] #Over here since the input and output layers have only one column, passing in the number 0 allows us to have the number of rows, which is the number of neurons in the input layer, x or the output layer, y\n",
    "    n_y = y.shape[0]\n",
    "\n",
    "    cost_list = []\n",
    "\n",
    "    parameters = initialize_parameters(n_x, n_h, n_y)\n",
    "\n",
    "    for i in range(iterations):\n",
    "        forward_cache = forward_propagation(x, parameters)\n",
    "\n",
    "        cost = cost_function(forward_cache['a2'], y)\n",
    "\n",
    "        gradients = backward_prop(x, y, parameters, forward_cache)\n",
    "\n",
    "        parameters = update_parameters(parameters, gradients, learning_rate)\n",
    "\n",
    "        cost_list.append(cost)\n",
    "\n",
    "        if(i % (iterations/10) == 0):\n",
    "            print(\"Cost after \", i, \" iterations is :\", cost)\n",
    "            \n",
    "\n",
    "    return parameters, cost_list\n",
    "\n"
   ]
  },
  {
   "cell_type": "code",
   "execution_count": 42,
   "metadata": {},
   "outputs": [
    {
     "name": "stdout",
     "output_type": "stream",
     "text": [
      "Cost after  0  iterations is : 2.307807888279226\n"
     ]
    },
    {
     "name": "stdout",
     "output_type": "stream",
     "text": [
      "Cost after  10  iterations is : 1.4570750272814925\n",
      "Cost after  20  iterations is : 1.0820216534333684\n",
      "Cost after  30  iterations is : 0.8818749351359002\n",
      "Cost after  40  iterations is : 0.7569021658867576\n",
      "Cost after  50  iterations is : 0.6703087900409286\n",
      "Cost after  60  iterations is : 0.6059864575131515\n",
      "Cost after  70  iterations is : 0.5558057503669956\n",
      "Cost after  80  iterations is : 0.5152114654874987\n",
      "Cost after  90  iterations is : 0.48146403822335776\n"
     ]
    }
   ],
   "source": [
    "iterations = 100\n",
    "n_h = 1000 #We choose 1000 neurons in our hidden layer because our input layer has 784 input features hence 784 neurons so our hidden layer must have a few more neurons, hence 1000\n",
    "learning_rate = 0.005\n",
    "Parameters, Cost_list = model(X_train, Y_train, n_h = n_h, learning_rate = learning_rate, iterations = iterations)"
   ]
  },
  {
   "cell_type": "markdown",
   "metadata": {},
   "source": [
    "PLOTTING THE COST AT 10 ITERATIONS OF THE TRAINING"
   ]
  },
  {
   "cell_type": "code",
   "execution_count": 43,
   "metadata": {},
   "outputs": [
    {
     "data": {
      "image/png": "[encoded data removed]",
      "text/plain": [
       "<Figure size 640x480 with 1 Axes>"
      ]
     },
     "metadata": {},
     "output_type": "display_data"
    }
   ],
   "source": [
    "t = np.arange(0, iterations)\n",
    "plt.plot(t, Cost_list)\n",
    "plt.show()"
   ]
  },
  {
   "cell_type": "markdown",
   "metadata": {},
   "source": [
    "CHECKING THE ACCURACY OF THE MODEL"
   ]
  },
  {
   "cell_type": "code",
   "execution_count": 44,
   "metadata": {},
   "outputs": [],
   "source": [
    "def accuracy(inp, labels, parameters):    \n",
    "    forward_cache = forward_propagation(inp, parameters)#passing the forward propagation output results to this variable\n",
    "    a_out = forward_cache['a2']#Assigning the results of the output neurons of the output layer to a_out\n",
    "\n",
    "    a_out = np.argmax(a_out, 0)#In the row of the output probabilistic results, the np.argmax finds the maximum value\n",
    "\n",
    "    y_out = np.argmax(labels, 0)#In the row of the labels, the np.argmax finds the maximum value\n",
    "    a_out == y_out #This checks whether the predicted(a_out) is the same as the actual value(y_out)\n",
    "\n",
    "    acc = np.mean(a_out == y_out) * 100\n",
    "    '''The code np.mean(a_out == y_out) * 100 is used to calculate the percentage of correct predictions when comparing two arrays a_out and y_out. Here's what each part of the code does:\n",
    "\n",
    "a_out == y_out: This performs an element-wise comparison between the two arrays a_out and y_out. It returns a Boolean array of the same shape as a_out and y_out, where each element is True if the corresponding elements in a_out and y_out are equal, and False otherwise.\n",
    "\n",
    "np.mean(...): This calculates the mean (average) of the Boolean array produced in the previous step. In this context, it calculates the percentage of True values in the Boolean array because True is treated as 1 and False as 0 when calculating the mean.\n",
    "\n",
    "* 100: This part multiplies the mean by 100 to convert the result to a percentage.\n",
    "\n",
    "So, the entire expression np.mean(a_out == y_out) * 100 calculates the percentage of correct predictions by comparing the elements of the arrays a_out and y_out. It provides the accuracy as a percentage value'''\n",
    "\n",
    "    return acc\n",
    "\n"
   ]
  },
  {
   "cell_type": "code",
   "execution_count": 45,
   "metadata": {},
   "outputs": [
    {
     "name": "stdout",
     "output_type": "stream",
     "text": [
      "Accuracy of Train Dataset is :  91.9 %\n",
      "Accuracy of Test Dataset is :  86.85714285714286 %\n"
     ]
    }
   ],
   "source": [
    "print(\"Accuracy of Train Dataset is : \", accuracy(X_train, Y_train, Parameters), \"%\")\n",
    "print(\"Accuracy of Test Dataset is : \", accuracy(X_test, Y_test, Parameters), \"%\")"
   ]
  },
  {
   "cell_type": "markdown",
   "metadata": {},
   "source": [
    "NOW WE ARE GOING TO DISPLAY AN IMAGE AND MAKE PREDICTIONS WITH THAT IMAGE"
   ]
  },
  {
   "cell_type": "code",
   "execution_count": 48,
   "metadata": {},
   "outputs": [
    {
     "data": {
      "image/png": "[encoded data removed]",
      "text/plain": [
       "<Figure size 640x480 with 1 Axes>"
      ]
     },
     "metadata": {},
     "output_type": "display_data"
    },
    {
     "name": "stdout",
     "output_type": "stream",
     "text": [
      "Our model says, it is :  9\n"
     ]
    }
   ],
   "source": [
    "idx = random.randrange(0, X_test.shape[1])\n",
    "plt.imshow(X_test[:, idx].reshape(28, 28), cmap = 'gray')\n",
    "plt.show()\n",
    "\n",
    "forward_cache = forward_propagation(X_test[:, idx].reshape(X_test.shape[0], 1), Parameters)\n",
    "a_out = forward_cache['a2']\n",
    "a_out = np.argmax(a_out, 0)\n",
    "\n",
    "print(\"Our model says, it is : \", a_out[0])"
   ]
  }
 ],
 "metadata": {
  "kernelspec": {
   "display_name": "Python 3",
   "language": "python",
   "name": "python3"
  },
  "language_info": {
   "codemirror_mode": {
    "name": "ipython",
    "version": 3
   },
   "file_extension": ".py",
   "mimetype": "text/x-python",
   "name": "python",
   "nbconvert_exporter": "python",
   "pygments_lexer": "ipython3",
   "version": "3.11.2"
  }
 },
 "nbformat": 4,
 "nbformat_minor": 2
}
